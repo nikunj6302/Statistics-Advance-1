{
  "nbformat": 4,
  "nbformat_minor": 0,
  "metadata": {
    "colab": {
      "provenance": []
    },
    "kernelspec": {
      "name": "python3",
      "display_name": "Python 3"
    },
    "language_info": {
      "name": "python"
    }
  },
  "cells": [
    {
      "cell_type": "markdown",
      "source": [
        "#Statistics Advance - 1"
      ],
      "metadata": {
        "id": "wDeLZkyw6sla"
      }
    },
    {
      "cell_type": "markdown",
      "source": [
        "1. What is a random variable in probability theory?\n",
        "  - Random variable is variable which is lies in a certain range. it has not any fix value so we have consider it as random variable of a range.\n",
        "\n",
        "2. What are the types of random variables?\n",
        "   - There are mainly two type of random variables, discrete and continous\n",
        "\n",
        "3. What is the difference between discrete and continuous distributions?\n",
        "  - In the discrete disrributin we have consider random variable as a whole number, we do not consider the float value between them and in continuous destribution we consider all the real number in the random variable range.\n",
        "\n",
        "4. What are probability distribution functions (PDF)?\n",
        "  - There are mainly two type of PDF, Probability density fucntion and probability mass function.\n",
        "\n",
        "5. How do cumulative distribution functions (CDF) differ from probability distribution functions (PDF)?\n",
        "  - Probability distibution function gives us probability of each point in the range of random variable while in cumulative distribution fuction add the exect next probability and give us total probability below that perticular point.\n",
        "\n",
        "6. What is a discrete uniform distribution?\n",
        "  - in the discrete uniform distribution the probability of every data point is same and the data point are all whole number in the random variable range.\n",
        "\n",
        "7. What are the key properties of a Bernoulli distribution?\n",
        "  - A discrete probability of random variable which takes only two possible outcome, and it has only one experimental trial.\n",
        "\n",
        "8. What is the binomial distribution, and how is it used in probability?\n",
        "  - It is same as bernoulli distribution, like it has two possible outcome but it has multiple trial of expetiment.\n",
        "\n",
        "9. What is the Poisson distribution and where is it applied?\n",
        "  - The expetiment done with respenct to time, describe no. of events whithin a fixed interval of time.\n",
        "\n",
        "10.  What is a continuous uniform distribution?\n",
        "  - in the Continuos uniform distribution the probability of every data point is same and the data point are in all the real number in the random variable range.\n",
        "\n",
        "11. What are the characteristics of a normal distribution?\n",
        "  - Noramal destribution are symetric about mean, the value of mean = median = mode, and the skewness will be zero.\n",
        "\n",
        "12. What is the standard normal distribution, and why is it important?\n",
        "  - In the normal destribution function if the value of mean is equal to zero and stadard deviation will be one then it is called as standard normal distribution.\n",
        "\n",
        "13. What is the Central Limit Theorem (CLT), and why is it critical in statistics?\n",
        "  - it states that when plotting a sample distribution of means. the means of the sample will be equal to the population mean and the sample distribution will approach normal distribution.\n",
        "\n",
        "14. How does the Central Limit Theorem relate to the normal distribution?\n",
        "  - The means of the sample of the data behave like normal distribution.\n",
        "\n",
        "15. What is the application of Z statistics in hypothesis testing?\n",
        "  - Z-statistics are used in hypothesis testing to determine if there's a significant difference between a sample mean and a population mean, when the sample size is large.\n",
        "\n",
        "16. How do you calculate a Z-score, and what does it represent?\n",
        "  - Z-score calculated by the differece between sample mean and population mean devide by the standard deviation and it represent how much diffrence between sample mean and population mean with respect to stadard deviation.\n",
        "\n",
        "17. What are point estimates and interval estimates in statistics?\n",
        "  - Point estimates provide a single value as the best guess for the parameter, while interval estimates provide a range of values that are likely to contain the parameter.\n",
        "\n",
        "18. What is the significance of confidence intervals in statistical analysis?\n",
        "  - Confidence intervals in statistical analysis provide a range of plausible values for an unknown population parameter, indicating the precision of an estimate derived from a sample.\n",
        "\n",
        "19. What is the relationship between a Z-score and a confidence interval?\n",
        "  - A Z-score is used to calculate a confidence interval. The Z-score represents the number of standard deviations a data point is from the mean in a normal distribution, while a confidence interval provides a range of values within which the true population parameter is likely to fall, based on a chosen confidence level.\n",
        "\n",
        "20. How are Z-scores used to compare different distributions?\n",
        "  - Z-scores are used to compare data from different distributions by standardizing the values. They represent how many standard deviations a data point is from its distribution's mean, allowing for direct comparison even if the distributions have different means and standard deviations.\n",
        "\n",
        "21. What are the assumptions for applying the Central Limit Theorem?\n",
        "  - The data sample must be randomly selected. there shuld not be any multicollinearity in the sample. one sample should not influence the other sample. sample size should be more than 10% of the population data.\n",
        "\n",
        "22.  What is the concept of expected value in a probability distribution?\n",
        "  - The expected value in a probability distribution represents the long-run average outcome of a random variable. It's a weighted average of all possible values, where each value is weighted by its corresponding probability.\n",
        "\n",
        "23. How does a probability distribution relate to the expected outcome of a random variable?\n",
        "  - A probability distribution describes the likelihood of different outcomes for a random variable, and the expected outcome (or expected value) is a weighted average of those outcomes, where the weights are their respective probabilities"
      ],
      "metadata": {
        "id": "67184KSl6yI8"
      }
    },
    {
      "cell_type": "code",
      "execution_count": null,
      "metadata": {
        "id": "HY_nnw8k6qbf"
      },
      "outputs": [],
      "source": []
    }
  ]
}